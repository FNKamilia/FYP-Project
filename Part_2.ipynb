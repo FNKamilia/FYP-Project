{
 "cells": [
  {
   "cell_type": "markdown",
   "id": "97c762b3",
   "metadata": {},
   "source": [
    "# Python Libraries"
   ]
  },
  {
   "cell_type": "code",
   "execution_count": 1,
   "id": "769c7bbc",
   "metadata": {},
   "outputs": [],
   "source": [
    "#data analysis and wrangling\n",
    "import pandas as pd\n",
    "import numpy as np\n",
    "import random as rnd\n",
    "#text pre processing and cleaning\n",
    "import neattext.functions as nfx"
   ]
  },
  {
   "cell_type": "code",
   "execution_count": 2,
   "id": "455e80c5",
   "metadata": {},
   "outputs": [],
   "source": [
    "#Loading Part One\n",
    "df = pd.read_csv('PartOne_Review.csv',  encoding = \"UTF8\")"
   ]
  },
  {
   "cell_type": "code",
   "execution_count": 3,
   "id": "e28a3455",
   "metadata": {},
   "outputs": [
    {
     "data": {
      "text/html": [
       "<div>\n",
       "<style scoped>\n",
       "    .dataframe tbody tr th:only-of-type {\n",
       "        vertical-align: middle;\n",
       "    }\n",
       "\n",
       "    .dataframe tbody tr th {\n",
       "        vertical-align: top;\n",
       "    }\n",
       "\n",
       "    .dataframe thead th {\n",
       "        text-align: right;\n",
       "    }\n",
       "</style>\n",
       "<table border=\"1\" class=\"dataframe\">\n",
       "  <thead>\n",
       "    <tr style=\"text-align: right;\">\n",
       "      <th></th>\n",
       "      <th>Author</th>\n",
       "      <th>Title</th>\n",
       "      <th>Review</th>\n",
       "      <th>Rating</th>\n",
       "      <th>Dates</th>\n",
       "      <th>Restaurant</th>\n",
       "      <th>Location</th>\n",
       "      <th>Day</th>\n",
       "      <th>Month</th>\n",
       "      <th>Year</th>\n",
       "    </tr>\n",
       "  </thead>\n",
       "  <tbody>\n",
       "    <tr>\n",
       "      <th>0</th>\n",
       "      <td>AgentcikayKuala Lumpur, Malaysia</td>\n",
       "      <td>Fantastic International Cuisine at Cuisines</td>\n",
       "      <td>Dinner here at Cuisines Restaurant was good. T...</td>\n",
       "      <td>5.0</td>\n",
       "      <td>2022-02-27</td>\n",
       "      <td>Cuisines Restaurant</td>\n",
       "      <td>Ipoh</td>\n",
       "      <td>27</td>\n",
       "      <td>2</td>\n",
       "      <td>2022</td>\n",
       "    </tr>\n",
       "    <tr>\n",
       "      <th>1</th>\n",
       "      <td>Merlinong2979</td>\n",
       "      <td>Heng Dai Cuti Cuti Ipoh</td>\n",
       "      <td>Like the environment so much, we stay in block...</td>\n",
       "      <td>5.0</td>\n",
       "      <td>2022-02-27</td>\n",
       "      <td>Cuisines Restaurant</td>\n",
       "      <td>Ipoh</td>\n",
       "      <td>27</td>\n",
       "      <td>2</td>\n",
       "      <td>2022</td>\n",
       "    </tr>\n",
       "    <tr>\n",
       "      <th>2</th>\n",
       "      <td>Hwathy09</td>\n",
       "      <td>Great service.Wonderful candlelight dinner meal.</td>\n",
       "      <td>Had such a great candlelight 4 course meal in ...</td>\n",
       "      <td>4.0</td>\n",
       "      <td>2022-02-25</td>\n",
       "      <td>Cuisines Restaurant</td>\n",
       "      <td>Ipoh</td>\n",
       "      <td>25</td>\n",
       "      <td>2</td>\n",
       "      <td>2022</td>\n",
       "    </tr>\n",
       "    <tr>\n",
       "      <th>3</th>\n",
       "      <td>EskandarShah</td>\n",
       "      <td>Saturday buffet bbq grill</td>\n",
       "      <td>Totally disappointed with the buffet spread wh...</td>\n",
       "      <td>2.0</td>\n",
       "      <td>2022-02-19</td>\n",
       "      <td>Cuisines Restaurant</td>\n",
       "      <td>Ipoh</td>\n",
       "      <td>19</td>\n",
       "      <td>2</td>\n",
       "      <td>2022</td>\n",
       "    </tr>\n",
       "    <tr>\n",
       "      <th>4</th>\n",
       "      <td>dumbaacs88</td>\n",
       "      <td>Perfect Candle Light Dinner</td>\n",
       "      <td>It’s was a wonderful experience. The 4 course ...</td>\n",
       "      <td>5.0</td>\n",
       "      <td>2022-02-15</td>\n",
       "      <td>Cuisines Restaurant</td>\n",
       "      <td>Ipoh</td>\n",
       "      <td>15</td>\n",
       "      <td>2</td>\n",
       "      <td>2022</td>\n",
       "    </tr>\n",
       "    <tr>\n",
       "      <th>...</th>\n",
       "      <td>...</td>\n",
       "      <td>...</td>\n",
       "      <td>...</td>\n",
       "      <td>...</td>\n",
       "      <td>...</td>\n",
       "      <td>...</td>\n",
       "      <td>...</td>\n",
       "      <td>...</td>\n",
       "      <td>...</td>\n",
       "      <td>...</td>\n",
       "    </tr>\n",
       "    <tr>\n",
       "      <th>82341</th>\n",
       "      <td>Wolv3rin3</td>\n",
       "      <td>Quietly Tucked Away Cafe</td>\n",
       "      <td>Have not been in Taipan neighbourhood for some...</td>\n",
       "      <td>4.0</td>\n",
       "      <td>2019-08-08</td>\n",
       "      <td>Doi Chaang Caffe</td>\n",
       "      <td>Shah Alam</td>\n",
       "      <td>8</td>\n",
       "      <td>8</td>\n",
       "      <td>2019</td>\n",
       "    </tr>\n",
       "    <tr>\n",
       "      <th>82342</th>\n",
       "      <td>leelakrist</td>\n",
       "      <td>good coffee served here</td>\n",
       "      <td>really like the coffee here the cold dog chang...</td>\n",
       "      <td>5.0</td>\n",
       "      <td>2019-07-19</td>\n",
       "      <td>Doi Chaang Caffe</td>\n",
       "      <td>Shah Alam</td>\n",
       "      <td>19</td>\n",
       "      <td>7</td>\n",
       "      <td>2019</td>\n",
       "    </tr>\n",
       "    <tr>\n",
       "      <th>82343</th>\n",
       "      <td>nathanganga8</td>\n",
       "      <td>Good Coffee</td>\n",
       "      <td>Must absolutely try the doi chang coffee uniqu...</td>\n",
       "      <td>5.0</td>\n",
       "      <td>2019-01-07</td>\n",
       "      <td>Doi Chaang Caffe</td>\n",
       "      <td>Shah Alam</td>\n",
       "      <td>7</td>\n",
       "      <td>1</td>\n",
       "      <td>2019</td>\n",
       "    </tr>\n",
       "    <tr>\n",
       "      <th>82344</th>\n",
       "      <td>felixm916</td>\n",
       "      <td>Homy cafe</td>\n",
       "      <td>Pleasant and friendly barista, awesome environ...</td>\n",
       "      <td>4.0</td>\n",
       "      <td>2018-06-20</td>\n",
       "      <td>Doi Chaang Caffe</td>\n",
       "      <td>Shah Alam</td>\n",
       "      <td>20</td>\n",
       "      <td>6</td>\n",
       "      <td>2018</td>\n",
       "    </tr>\n",
       "    <tr>\n",
       "      <th>82345</th>\n",
       "      <td>stefaniecstPetaling Jaya, Malaysia</td>\n",
       "      <td>Homemade sitiawan food</td>\n",
       "      <td>Located opposite samy &amp; min bah kut teh (Suban...</td>\n",
       "      <td>4.0</td>\n",
       "      <td>2019-05-05</td>\n",
       "      <td>ah muk Noodle</td>\n",
       "      <td>Shah Alam</td>\n",
       "      <td>5</td>\n",
       "      <td>5</td>\n",
       "      <td>2019</td>\n",
       "    </tr>\n",
       "  </tbody>\n",
       "</table>\n",
       "<p>82346 rows × 10 columns</p>\n",
       "</div>"
      ],
      "text/plain": [
       "                                   Author  \\\n",
       "0        AgentcikayKuala Lumpur, Malaysia   \n",
       "1                           Merlinong2979   \n",
       "2                                Hwathy09   \n",
       "3                            EskandarShah   \n",
       "4                              dumbaacs88   \n",
       "...                                   ...   \n",
       "82341                           Wolv3rin3   \n",
       "82342                          leelakrist   \n",
       "82343                        nathanganga8   \n",
       "82344                           felixm916   \n",
       "82345  stefaniecstPetaling Jaya, Malaysia   \n",
       "\n",
       "                                                  Title  \\\n",
       "0           Fantastic International Cuisine at Cuisines   \n",
       "1                               Heng Dai Cuti Cuti Ipoh   \n",
       "2      Great service.Wonderful candlelight dinner meal.   \n",
       "3                             Saturday buffet bbq grill   \n",
       "4                           Perfect Candle Light Dinner   \n",
       "...                                                 ...   \n",
       "82341                          Quietly Tucked Away Cafe   \n",
       "82342                           good coffee served here   \n",
       "82343                                       Good Coffee   \n",
       "82344                                         Homy cafe   \n",
       "82345                            Homemade sitiawan food   \n",
       "\n",
       "                                                  Review  Rating       Dates  \\\n",
       "0      Dinner here at Cuisines Restaurant was good. T...     5.0  2022-02-27   \n",
       "1      Like the environment so much, we stay in block...     5.0  2022-02-27   \n",
       "2      Had such a great candlelight 4 course meal in ...     4.0  2022-02-25   \n",
       "3      Totally disappointed with the buffet spread wh...     2.0  2022-02-19   \n",
       "4      It’s was a wonderful experience. The 4 course ...     5.0  2022-02-15   \n",
       "...                                                  ...     ...         ...   \n",
       "82341  Have not been in Taipan neighbourhood for some...     4.0  2019-08-08   \n",
       "82342  really like the coffee here the cold dog chang...     5.0  2019-07-19   \n",
       "82343  Must absolutely try the doi chang coffee uniqu...     5.0  2019-01-07   \n",
       "82344  Pleasant and friendly barista, awesome environ...     4.0  2018-06-20   \n",
       "82345  Located opposite samy & min bah kut teh (Suban...     4.0  2019-05-05   \n",
       "\n",
       "                Restaurant   Location  Day  Month  Year  \n",
       "0      Cuisines Restaurant       Ipoh   27      2  2022  \n",
       "1      Cuisines Restaurant       Ipoh   27      2  2022  \n",
       "2      Cuisines Restaurant       Ipoh   25      2  2022  \n",
       "3      Cuisines Restaurant       Ipoh   19      2  2022  \n",
       "4      Cuisines Restaurant       Ipoh   15      2  2022  \n",
       "...                    ...        ...  ...    ...   ...  \n",
       "82341     Doi Chaang Caffe  Shah Alam    8      8  2019  \n",
       "82342     Doi Chaang Caffe  Shah Alam   19      7  2019  \n",
       "82343     Doi Chaang Caffe  Shah Alam    7      1  2019  \n",
       "82344     Doi Chaang Caffe  Shah Alam   20      6  2018  \n",
       "82345        ah muk Noodle  Shah Alam    5      5  2019  \n",
       "\n",
       "[82346 rows x 10 columns]"
      ]
     },
     "execution_count": 3,
     "metadata": {},
     "output_type": "execute_result"
    }
   ],
   "source": [
    "df"
   ]
  },
  {
   "cell_type": "markdown",
   "id": "7bfd6dd4",
   "metadata": {},
   "source": [
    "# Text cleaning"
   ]
  },
  {
   "cell_type": "markdown",
   "id": "24dae04e",
   "metadata": {},
   "source": [
    "Text cleaning is a crucial step in both text analysis and natural language processing. This step is essential since the raw text data may have many types of noise or meaningless data, such as stop words, special characters, numbers, and punctuation. \n",
    "\n",
    "Text cleaning were done to avoid from negatively impact the accuracy and quality of the analysis or machine learning model in order to obtain useful insights and make accurate predictions."
   ]
  },
  {
   "cell_type": "code",
   "execution_count": 4,
   "id": "bd9badf6",
   "metadata": {},
   "outputs": [],
   "source": [
    "df2 = df.copy()"
   ]
  },
  {
   "cell_type": "code",
   "execution_count": 5,
   "id": "d57c344e",
   "metadata": {},
   "outputs": [
    {
     "name": "stdout",
     "output_type": "stream",
     "text": [
      "['Author' 'Title' 'Review' 'Rating' 'Dates' 'Restaurant' 'Location' 'Day'\n",
      " 'Month' 'Year']\n"
     ]
    }
   ],
   "source": [
    "#To review the column in df2\n",
    "print(df2.columns.values)"
   ]
  },
  {
   "cell_type": "code",
   "execution_count": 6,
   "id": "4859bbcd",
   "metadata": {},
   "outputs": [
    {
     "data": {
      "text/plain": [
       "['BTC_ADDRESS_REGEX',\n",
       " 'CURRENCY_REGEX',\n",
       " 'CURRENCY_SYMB_REGEX',\n",
       " 'Counter',\n",
       " 'DATE_REGEX',\n",
       " 'EMAIL_REGEX',\n",
       " 'EMOJI_REGEX',\n",
       " 'HASTAG_REGEX',\n",
       " 'MASTERCard_REGEX',\n",
       " 'MD5_SHA_REGEX',\n",
       " 'MOST_COMMON_PUNCT_REGEX',\n",
       " 'NUMBERS_REGEX',\n",
       " 'PHONE_REGEX',\n",
       " 'PoBOX_REGEX',\n",
       " 'SPECIAL_CHARACTERS_REGEX',\n",
       " 'STOPWORDS',\n",
       " 'STOPWORDS_de',\n",
       " 'STOPWORDS_en',\n",
       " 'STOPWORDS_es',\n",
       " 'STOPWORDS_fr',\n",
       " 'STOPWORDS_ru',\n",
       " 'STOPWORDS_yo',\n",
       " 'STREET_ADDRESS_REGEX',\n",
       " 'TextFrame',\n",
       " 'URL_PATTERN',\n",
       " 'USER_HANDLES_REGEX',\n",
       " 'VISACard_REGEX',\n",
       " '__builtins__',\n",
       " '__cached__',\n",
       " '__doc__',\n",
       " '__file__',\n",
       " '__generate_text',\n",
       " '__loader__',\n",
       " '__name__',\n",
       " '__numbers_dict',\n",
       " '__package__',\n",
       " '__spec__',\n",
       " '_lex_richness_herdan',\n",
       " '_lex_richness_maas_ttr',\n",
       " 'clean_text',\n",
       " 'defaultdict',\n",
       " 'digit2words',\n",
       " 'extract_btc_address',\n",
       " 'extract_currencies',\n",
       " 'extract_currency_symbols',\n",
       " 'extract_dates',\n",
       " 'extract_emails',\n",
       " 'extract_emojis',\n",
       " 'extract_hashtags',\n",
       " 'extract_html_tags',\n",
       " 'extract_mastercard_addr',\n",
       " 'extract_md5sha',\n",
       " 'extract_numbers',\n",
       " 'extract_pattern',\n",
       " 'extract_phone_numbers',\n",
       " 'extract_postoffice_box',\n",
       " 'extract_shortwords',\n",
       " 'extract_special_characters',\n",
       " 'extract_stopwords',\n",
       " 'extract_street_address',\n",
       " 'extract_terms_in_bracket',\n",
       " 'extract_urls',\n",
       " 'extract_userhandles',\n",
       " 'extract_visacard_addr',\n",
       " 'fix_contractions',\n",
       " 'generate_sentence',\n",
       " 'hamming_distance',\n",
       " 'inverse_df',\n",
       " 'lexical_richness',\n",
       " 'markov_chain',\n",
       " 'math',\n",
       " 'nlargest',\n",
       " 'normalize',\n",
       " 'num2words',\n",
       " 'random',\n",
       " 're',\n",
       " 'read_txt',\n",
       " 'remove_accents',\n",
       " 'remove_bad_quotes',\n",
       " 'remove_btc_address',\n",
       " 'remove_currencies',\n",
       " 'remove_currency_symbols',\n",
       " 'remove_custom_pattern',\n",
       " 'remove_custom_words',\n",
       " 'remove_dates',\n",
       " 'remove_emails',\n",
       " 'remove_emojis',\n",
       " 'remove_hashtags',\n",
       " 'remove_html_tags',\n",
       " 'remove_mastercard_addr',\n",
       " 'remove_md5sha',\n",
       " 'remove_multiple_spaces',\n",
       " 'remove_non_ascii',\n",
       " 'remove_numbers',\n",
       " 'remove_phone_numbers',\n",
       " 'remove_postoffice_box',\n",
       " 'remove_puncts',\n",
       " 'remove_punctuations',\n",
       " 'remove_shortwords',\n",
       " 'remove_special_characters',\n",
       " 'remove_stopwords',\n",
       " 'remove_street_address',\n",
       " 'remove_terms_in_bracket',\n",
       " 'remove_urls',\n",
       " 'remove_userhandles',\n",
       " 'remove_visacard_addr',\n",
       " 'replace_bad_quotes',\n",
       " 'replace_currencies',\n",
       " 'replace_currency_symbols',\n",
       " 'replace_dates',\n",
       " 'replace_emails',\n",
       " 'replace_emojis',\n",
       " 'replace_numbers',\n",
       " 'replace_phone_numbers',\n",
       " 'replace_special_characters',\n",
       " 'replace_term',\n",
       " 'replace_urls',\n",
       " 'string',\n",
       " 'term_freq',\n",
       " 'to_txt',\n",
       " 'unicodedata',\n",
       " 'word_freq',\n",
       " 'word_length_freq']"
      ]
     },
     "execution_count": 6,
     "metadata": {},
     "output_type": "execute_result"
    }
   ],
   "source": [
    "#Methods and attribute existed in nfx libraries\n",
    "dir(nfx)"
   ]
  },
  {
   "cell_type": "code",
   "execution_count": 7,
   "id": "e0b26cd6",
   "metadata": {},
   "outputs": [
    {
     "data": {
      "text/plain": [
       "0        Dinner here at Cuisines Restaurant was good. T...\n",
       "1        Like the environment so much, we stay in block...\n",
       "2        Had such a great candlelight 4 course meal in ...\n",
       "3        Totally disappointed with the buffet spread wh...\n",
       "4        It’s was a wonderful experience. The 4 course ...\n",
       "                               ...                        \n",
       "82341    Have not been in Taipan neighbourhood for some...\n",
       "82342    really like the coffee here the cold dog chang...\n",
       "82343    Must absolutely try the doi chang coffee uniqu...\n",
       "82344    Pleasant and friendly barista, awesome environ...\n",
       "82345    Located opposite samy & min bah kut teh (Suban...\n",
       "Name: Review, Length: 82346, dtype: object"
      ]
     },
     "execution_count": 7,
     "metadata": {},
     "output_type": "execute_result"
    }
   ],
   "source": [
    "# Overview of the customers' reviews \n",
    "df2['Review']"
   ]
  },
  {
   "cell_type": "markdown",
   "id": "a9463c7a",
   "metadata": {},
   "source": [
    "Before we start to clean the text we want to show the before and after data being cleaned. Using loc function, we can see the overview of Review column."
   ]
  },
  {
   "cell_type": "code",
   "execution_count": 8,
   "id": "b817fd7f",
   "metadata": {},
   "outputs": [
    {
     "data": {
      "text/plain": [
       "'It’s was a wonderful experience. The 4 course love menu was very nice and tasty. The view of the lake was very beautiful. We were served by Mr. Jeet who was very friendly and he took some wonderful pictures of us. He explained clearly about the menu and how the food was cooked. It’s a very healthy meal. We loved the 600m walk around the lake. The scenery was very beautiful. Overall we really like the place. It was a perfect Valentine Dinner. Thanks and will come again.Show less'"
      ]
     },
     "execution_count": 8,
     "metadata": {},
     "output_type": "execute_result"
    }
   ],
   "source": [
    "#Display the value in the 'Review' column of the df dataframe at index 4 \n",
    "df2['Review'].loc[4]"
   ]
  },
  {
   "cell_type": "code",
   "execution_count": 9,
   "id": "c91a21a8",
   "metadata": {},
   "outputs": [
    {
     "data": {
      "text/plain": [
       "'Located opposite samy & min bah kut teh (Subang) outlet. We had:-- Gang Guong Noodles @ RM8-Wanton Soup with lohlak base @ RM 6- Loh Mee @ RM 8- Long Yan @ RM 10And Buddha fruit drinks hot @ RM 2.20It’s nice dining in air conditioning knowing the weather in Malaysia are really hot. Cash payment only. Coming at 7.20pm, restaurant are full house. Waiting for our food are roughly 25minutes after ordering at 7.30pm. The gang guong noodles are kampungs noodles served with fried lohbak, a few slices instead of roasted pork. Noodles comes with side soup with 3fish ball. Taste wise are very normal dried noodles with dark soya sauce and shallot oil. The wanton soup comes with 10 very little filling wanton served with loh mee soup + Assam laksa soup are named after lohlak. It’s light soup with a hint of sour Assam laksa soup. They served with a few strips of brown squid, in the soup. Well I guess Sitiawan people like little filling wantanFood are generally good, no msg or salty at all. Suitable for young kids and older people. My favorite dish are the Long yan. The noodles are chewy, gooey and smooth. As the noodles are made of tapioca powder and egg. Loh mee are nice too as the soup are filled with a lot brown squid, bamboo shoots and it goes well with some homemade garlic vinegarWill return to try their red wine chicken soup available only on Friday, Saturday and Sunday. The long yan noodles are really good and would like to have it againShow less'"
      ]
     },
     "execution_count": 9,
     "metadata": {},
     "output_type": "execute_result"
    }
   ],
   "source": [
    "#Display the value in the 'Review' column of the df dataframe at index 82345\n",
    "df2['Review'].loc[82345]"
   ]
  },
  {
   "cell_type": "markdown",
   "id": "4a0bc48b",
   "metadata": {},
   "source": [
    "**Noise of the data**\n",
    "\n",
    "We want to remove the noise of the data to make the data looks more organize and free from useless characters.\n",
    "These are the general steps for cleaning text in customer reviews:\n",
    "\n",
    "1. Convert all text to lowercase\n",
    "2. Remove punctuation\n",
    "3. Remove numbers\n",
    "4. Remove special characters\n",
    "5. Remove repetitive characters\n",
    "\n",
    "With neattext libraries it helps us remove characters we do not want as it does not bring meaning to the sentence."
   ]
  },
  {
   "cell_type": "code",
   "execution_count": 10,
   "id": "95793362",
   "metadata": {},
   "outputs": [
    {
     "name": "stderr",
     "output_type": "stream",
     "text": [
      "[nltk_data] Downloading package wordnet to\n",
      "[nltk_data]     C:\\Users\\User\\AppData\\Roaming\\nltk_data...\n",
      "[nltk_data]   Package wordnet is already up-to-date!\n"
     ]
    },
    {
     "data": {
      "text/plain": [
       "True"
      ]
     },
     "execution_count": 10,
     "metadata": {},
     "output_type": "execute_result"
    }
   ],
   "source": [
    "import nltk\n",
    "nltk.download('wordnet')"
   ]
  },
  {
   "cell_type": "code",
   "execution_count": 11,
   "id": "a274eec0",
   "metadata": {},
   "outputs": [],
   "source": [
    "# convert all text to lowercase and assign to new column\n",
    "df2['Clean_Review'] = df2['Review'].str.lower()"
   ]
  },
  {
   "cell_type": "code",
   "execution_count": 12,
   "id": "d426a20c",
   "metadata": {},
   "outputs": [
    {
     "data": {
      "text/plain": [
       "0        dinner here at cuisines restaurant was good. t...\n",
       "1        like the environment so much, we stay in block...\n",
       "2        had such a great candlelight 4 course meal in ...\n",
       "3        totally disappointed with the buffet spread wh...\n",
       "4        it’s was a wonderful experience. the 4 course ...\n",
       "                               ...                        \n",
       "82341    have not been in taipan neighbourhood for some...\n",
       "82342    really like the coffee here the cold dog chang...\n",
       "82343    must absolutely try the doi chang coffee uniqu...\n",
       "82344    pleasant and friendly barista, awesome environ...\n",
       "82345    located opposite samy & min bah kut teh (suban...\n",
       "Name: Clean_Review, Length: 82346, dtype: object"
      ]
     },
     "execution_count": 12,
     "metadata": {},
     "output_type": "execute_result"
    }
   ],
   "source": [
    "#Display the value in the 'Clean_Review' column \n",
    "df2['Clean_Review']"
   ]
  },
  {
   "cell_type": "code",
   "execution_count": 13,
   "id": "ea5e2282",
   "metadata": {},
   "outputs": [],
   "source": [
    "# remove punctuation\n",
    "df2['Clean_Review'] = df2['Clean_Review'].apply(nfx.remove_punctuations)"
   ]
  },
  {
   "cell_type": "code",
   "execution_count": 14,
   "id": "aa0148c6",
   "metadata": {},
   "outputs": [
    {
     "data": {
      "text/plain": [
       "'it’s was a wonderful experience the 4 course love menu was very nice and tasty the view of the lake was very beautiful we were served by mr jeet who was very friendly and he took some wonderful pictures of us he explained clearly about the menu and how the food was cooked it’s a very healthy meal we loved the 600m walk around the lake the scenery was very beautiful overall we really like the place it was a perfect valentine dinner thanks and will come againshow less'"
      ]
     },
     "execution_count": 14,
     "metadata": {},
     "output_type": "execute_result"
    }
   ],
   "source": [
    "#Display the value in the 'Clean_Review' column of the df2 dataframe at index 4 \n",
    "df2['Clean_Review'].loc[4]"
   ]
  },
  {
   "cell_type": "code",
   "execution_count": 15,
   "id": "540d5b38",
   "metadata": {},
   "outputs": [],
   "source": [
    "# remove numbers\n",
    "df2['Clean_Review'] = df2['Clean_Review'].apply(nfx.remove_numbers)"
   ]
  },
  {
   "cell_type": "code",
   "execution_count": 16,
   "id": "572e6afe",
   "metadata": {},
   "outputs": [
    {
     "data": {
      "text/plain": [
       "'it’s was a wonderful experience the  course love menu was very nice and tasty the view of the lake was very beautiful we were served by mr jeet who was very friendly and he took some wonderful pictures of us he explained clearly about the menu and how the food was cooked it’s a very healthy meal we loved the m walk around the lake the scenery was very beautiful overall we really like the place it was a perfect valentine dinner thanks and will come againshow less'"
      ]
     },
     "execution_count": 16,
     "metadata": {},
     "output_type": "execute_result"
    }
   ],
   "source": [
    "#Display the value in the 'Clean_Review' column of the df2 dataframe at index 4 \n",
    "df2['Clean_Review'].loc[4]"
   ]
  },
  {
   "cell_type": "code",
   "execution_count": 17,
   "id": "1b4380df",
   "metadata": {},
   "outputs": [],
   "source": [
    "# remove special characters\n",
    "df2['Clean_Review'] = df2['Clean_Review'].apply(nfx.remove_special_characters)"
   ]
  },
  {
   "cell_type": "code",
   "execution_count": 18,
   "id": "0b313e1c",
   "metadata": {},
   "outputs": [
    {
     "data": {
      "text/plain": [
       "'its was a wonderful experience the  course love menu was very nice and tasty the view of the lake was very beautiful we were served by mr jeet who was very friendly and he took some wonderful pictures of us he explained clearly about the menu and how the food was cooked its a very healthy meal we loved the m walk around the lake the scenery was very beautiful overall we really like the place it was a perfect valentine dinner thanks and will come againshow less'"
      ]
     },
     "execution_count": 18,
     "metadata": {},
     "output_type": "execute_result"
    }
   ],
   "source": [
    "#Display the value in the 'Clean_Review' column of the df2 dataframe at index 4 \n",
    "df2['Clean_Review'].loc[4]"
   ]
  },
  {
   "cell_type": "code",
   "execution_count": 19,
   "id": "cb401899",
   "metadata": {},
   "outputs": [
    {
     "data": {
      "text/plain": [
       "'hi morning nazrul tanankyou so much for your superbb best services last night  is very satisfied with husband even happy takde not directly tq so much again there is a sustenance confirm repeat againfrom the st son book package that was offers until it was finished dinner'"
      ]
     },
     "execution_count": 19,
     "metadata": {},
     "output_type": "execute_result"
    }
   ],
   "source": [
    "#Display the value in the 'Clean_Review' column of the df2 dataframe at index 4 \n",
    "df2['Clean_Review'].loc[5433]"
   ]
  },
  {
   "cell_type": "markdown",
   "id": "79aeba89",
   "metadata": {},
   "source": [
    "#### Detecting and removing repetitive characters from words"
   ]
  },
  {
   "cell_type": "markdown",
   "id": "9a6f690b",
   "metadata": {},
   "source": [
    "Removing repetitive characters from words in the 'Clean_Review' column can be beneficial for several reasons:\n",
    "\n",
    "Improve readability: Excessive repetition of characters within words can make the text difficult to read. Removing the repetitive characters enhances the readability and comprehension of the text.\n",
    "\n",
    "Normalize the text: By removing the extra repetitive characters, you can normalize the text and bring it closer to its standard form. This normalization can be helpful for subsequent text processing tasks, such as sentiment analysis or topic modeling.\n",
    "\n",
    "Reduce noise: Repetitive characters within words can introduce noise in the text data. Removing the repetitive characters helps in reducing this noise, allowing for more accurate analysis or modeling.\n",
    "\n",
    "Consistent representation: Removing the extra repetitive characters ensures a more consistent representation of words across the 'Clean_Review' column. This consistency can be beneficial when comparing or analyzing the text data."
   ]
  },
  {
   "cell_type": "code",
   "execution_count": 20,
   "id": "11057bdf",
   "metadata": {},
   "outputs": [
    {
     "data": {
      "text/plain": [
       "'the food is really delicious at dragoni but the service at this branch is not that good as the waiter and waitress are a bit blur and we were expecting them to be very friendly but disappointingly they arent anyway the food is good here especially the xiao long bao yummyshow less'"
      ]
     },
     "execution_count": 20,
     "metadata": {},
     "output_type": "execute_result"
    }
   ],
   "source": [
    "#Display the value in the 'Clean_Review' column of the df2 dataframe at index 66666 to check repepetive characters in words\n",
    "df2['Clean_Review'].loc[66666]"
   ]
  },
  {
   "cell_type": "markdown",
   "id": "9c6ceb68",
   "metadata": {},
   "source": [
    "The output shows \"looooove\" have repetitive characters which we want to remove from Clean_Review. The command line below display all the text in Clean_Review that contains repetitive characters in their words."
   ]
  },
  {
   "cell_type": "code",
   "execution_count": 21,
   "id": "88e2f91c",
   "metadata": {},
   "outputs": [
    {
     "name": "stdout",
     "output_type": "stream",
     "text": [
      "44       come here on a wednesday evening for surprise ...\n",
      "191      this is my nd visit to the haven and also cuis...\n",
      "219      the havens complimentary breakfast spread is a...\n",
      "243      we went for a late dinner on a weeknight aroun...\n",
      "289      good food and efficient staff would recommend ...\n",
      "                               ...                        \n",
      "82065    verde has aways been our local favorite it has...\n",
      "82067    i gotta admit this place probably serves the b...\n",
      "82069    their food is really goooooddd prices are cons...\n",
      "82187    i was initially very taken with this place lov...\n",
      "82234    its a heaven place for teddy bears lover the s...\n",
      "Name: Clean_Review, Length: 2738, dtype: object\n"
     ]
    }
   ],
   "source": [
    "import re\n",
    "\n",
    "# Function to check if a word contains repetitive characters\n",
    "def has_repetitive_chars(word):\n",
    "    pattern = re.compile(r\"(.)\\1{2,}\")  # Matches 3 or more repetitive characters\n",
    "    return bool(pattern.search(word))\n",
    "\n",
    "# Filter the DataFrame to include only rows with words containing repetitive characters\n",
    "filtered_df = df2[df2['Clean_Review'].apply(has_repetitive_chars)]\n",
    "\n",
    "# Display the \"Clean_Review\" column of the filtered DataFrame\n",
    "print(filtered_df['Clean_Review'])"
   ]
  },
  {
   "cell_type": "code",
   "execution_count": 22,
   "id": "73f56467",
   "metadata": {},
   "outputs": [
    {
     "name": "stdout",
     "output_type": "stream",
     "text": [
      "0        dinner here at cuisines restaurant was good th...\n",
      "1        like the environment so much we stay in block ...\n",
      "2        had such a great candlelight  course meal in t...\n",
      "3        totally disappointed with the buffet spread wh...\n",
      "4        its was a wonderful experience the  course lov...\n",
      "                               ...                        \n",
      "82341    have not been in taipan neighbourhood for some...\n",
      "82342    really like the coffee here the cold dog chang...\n",
      "82343    must absolutely try the doi chang coffee uniqu...\n",
      "82344    pleasant and friendly barista awesome environm...\n",
      "82345    located opposite samy  min bah kut teh subang ...\n",
      "Name: Clean_Review, Length: 82346, dtype: object\n"
     ]
    }
   ],
   "source": [
    "import re\n",
    "\n",
    "# Function to remove repetitive characters from words\n",
    "def remove_repetitive_chars(text):\n",
    "    pattern = re.compile(r\"(.)\\1{2,}\")  # Matches 3 or more repetitive characters\n",
    "    return pattern.sub(r\"\\1\", text)\n",
    "\n",
    "# Apply the function to the 'Clean_Review' column\n",
    "df2['Clean_Review'] = df2['Clean_Review'].apply(remove_repetitive_chars)\n",
    "\n",
    "# Print the updated 'Clean_Review' column\n",
    "print(df2['Clean_Review'])"
   ]
  },
  {
   "cell_type": "code",
   "execution_count": 23,
   "id": "d7bc516f",
   "metadata": {},
   "outputs": [
    {
     "name": "stdout",
     "output_type": "stream",
     "text": [
      "Series([], Name: Clean_Review, dtype: object)\n"
     ]
    }
   ],
   "source": [
    "import re\n",
    "\n",
    "# Function to check if a word contains repetitive characters\n",
    "def has_repetitive_chars(word):\n",
    "    pattern = re.compile(r\"(.)\\1{2,}\")  # Matches 3 or more repetitive characters\n",
    "    return bool(pattern.search(word))\n",
    "\n",
    "# Filter the DataFrame to include only rows with words containing repetitive characters\n",
    "filtered_df = df2[df2['Clean_Review'].apply(has_repetitive_chars)]\n",
    "\n",
    "# Display the \"Clean_Review\" column of the filtered DataFrame\n",
    "print(filtered_df['Clean_Review'])"
   ]
  },
  {
   "cell_type": "markdown",
   "id": "14b95445",
   "metadata": {},
   "source": [
    "Now that we remove all the noise of the data, we need to display the Clean_Review to see if we missed anything."
   ]
  },
  {
   "cell_type": "code",
   "execution_count": 24,
   "id": "f086954b",
   "metadata": {},
   "outputs": [
    {
     "data": {
      "text/html": [
       "<div>\n",
       "<style scoped>\n",
       "    .dataframe tbody tr th:only-of-type {\n",
       "        vertical-align: middle;\n",
       "    }\n",
       "\n",
       "    .dataframe tbody tr th {\n",
       "        vertical-align: top;\n",
       "    }\n",
       "\n",
       "    .dataframe thead th {\n",
       "        text-align: right;\n",
       "    }\n",
       "</style>\n",
       "<table border=\"1\" class=\"dataframe\">\n",
       "  <thead>\n",
       "    <tr style=\"text-align: right;\">\n",
       "      <th></th>\n",
       "      <th>Author</th>\n",
       "      <th>Title</th>\n",
       "      <th>Review</th>\n",
       "      <th>Rating</th>\n",
       "      <th>Dates</th>\n",
       "      <th>Restaurant</th>\n",
       "      <th>Location</th>\n",
       "      <th>Day</th>\n",
       "      <th>Month</th>\n",
       "      <th>Year</th>\n",
       "      <th>Clean_Review</th>\n",
       "    </tr>\n",
       "  </thead>\n",
       "  <tbody>\n",
       "    <tr>\n",
       "      <th>0</th>\n",
       "      <td>AgentcikayKuala Lumpur, Malaysia</td>\n",
       "      <td>Fantastic International Cuisine at Cuisines</td>\n",
       "      <td>Dinner here at Cuisines Restaurant was good. T...</td>\n",
       "      <td>5.0</td>\n",
       "      <td>2022-02-27</td>\n",
       "      <td>Cuisines Restaurant</td>\n",
       "      <td>Ipoh</td>\n",
       "      <td>27</td>\n",
       "      <td>2</td>\n",
       "      <td>2022</td>\n",
       "      <td>dinner here at cuisines restaurant was good th...</td>\n",
       "    </tr>\n",
       "    <tr>\n",
       "      <th>1</th>\n",
       "      <td>Merlinong2979</td>\n",
       "      <td>Heng Dai Cuti Cuti Ipoh</td>\n",
       "      <td>Like the environment so much, we stay in block...</td>\n",
       "      <td>5.0</td>\n",
       "      <td>2022-02-27</td>\n",
       "      <td>Cuisines Restaurant</td>\n",
       "      <td>Ipoh</td>\n",
       "      <td>27</td>\n",
       "      <td>2</td>\n",
       "      <td>2022</td>\n",
       "      <td>like the environment so much we stay in block ...</td>\n",
       "    </tr>\n",
       "    <tr>\n",
       "      <th>2</th>\n",
       "      <td>Hwathy09</td>\n",
       "      <td>Great service.Wonderful candlelight dinner meal.</td>\n",
       "      <td>Had such a great candlelight 4 course meal in ...</td>\n",
       "      <td>4.0</td>\n",
       "      <td>2022-02-25</td>\n",
       "      <td>Cuisines Restaurant</td>\n",
       "      <td>Ipoh</td>\n",
       "      <td>25</td>\n",
       "      <td>2</td>\n",
       "      <td>2022</td>\n",
       "      <td>had such a great candlelight  course meal in t...</td>\n",
       "    </tr>\n",
       "    <tr>\n",
       "      <th>3</th>\n",
       "      <td>EskandarShah</td>\n",
       "      <td>Saturday buffet bbq grill</td>\n",
       "      <td>Totally disappointed with the buffet spread wh...</td>\n",
       "      <td>2.0</td>\n",
       "      <td>2022-02-19</td>\n",
       "      <td>Cuisines Restaurant</td>\n",
       "      <td>Ipoh</td>\n",
       "      <td>19</td>\n",
       "      <td>2</td>\n",
       "      <td>2022</td>\n",
       "      <td>totally disappointed with the buffet spread wh...</td>\n",
       "    </tr>\n",
       "    <tr>\n",
       "      <th>4</th>\n",
       "      <td>dumbaacs88</td>\n",
       "      <td>Perfect Candle Light Dinner</td>\n",
       "      <td>It’s was a wonderful experience. The 4 course ...</td>\n",
       "      <td>5.0</td>\n",
       "      <td>2022-02-15</td>\n",
       "      <td>Cuisines Restaurant</td>\n",
       "      <td>Ipoh</td>\n",
       "      <td>15</td>\n",
       "      <td>2</td>\n",
       "      <td>2022</td>\n",
       "      <td>its was a wonderful experience the  course lov...</td>\n",
       "    </tr>\n",
       "    <tr>\n",
       "      <th>...</th>\n",
       "      <td>...</td>\n",
       "      <td>...</td>\n",
       "      <td>...</td>\n",
       "      <td>...</td>\n",
       "      <td>...</td>\n",
       "      <td>...</td>\n",
       "      <td>...</td>\n",
       "      <td>...</td>\n",
       "      <td>...</td>\n",
       "      <td>...</td>\n",
       "      <td>...</td>\n",
       "    </tr>\n",
       "    <tr>\n",
       "      <th>82341</th>\n",
       "      <td>Wolv3rin3</td>\n",
       "      <td>Quietly Tucked Away Cafe</td>\n",
       "      <td>Have not been in Taipan neighbourhood for some...</td>\n",
       "      <td>4.0</td>\n",
       "      <td>2019-08-08</td>\n",
       "      <td>Doi Chaang Caffe</td>\n",
       "      <td>Shah Alam</td>\n",
       "      <td>8</td>\n",
       "      <td>8</td>\n",
       "      <td>2019</td>\n",
       "      <td>have not been in taipan neighbourhood for some...</td>\n",
       "    </tr>\n",
       "    <tr>\n",
       "      <th>82342</th>\n",
       "      <td>leelakrist</td>\n",
       "      <td>good coffee served here</td>\n",
       "      <td>really like the coffee here the cold dog chang...</td>\n",
       "      <td>5.0</td>\n",
       "      <td>2019-07-19</td>\n",
       "      <td>Doi Chaang Caffe</td>\n",
       "      <td>Shah Alam</td>\n",
       "      <td>19</td>\n",
       "      <td>7</td>\n",
       "      <td>2019</td>\n",
       "      <td>really like the coffee here the cold dog chang...</td>\n",
       "    </tr>\n",
       "    <tr>\n",
       "      <th>82343</th>\n",
       "      <td>nathanganga8</td>\n",
       "      <td>Good Coffee</td>\n",
       "      <td>Must absolutely try the doi chang coffee uniqu...</td>\n",
       "      <td>5.0</td>\n",
       "      <td>2019-01-07</td>\n",
       "      <td>Doi Chaang Caffe</td>\n",
       "      <td>Shah Alam</td>\n",
       "      <td>7</td>\n",
       "      <td>1</td>\n",
       "      <td>2019</td>\n",
       "      <td>must absolutely try the doi chang coffee uniqu...</td>\n",
       "    </tr>\n",
       "    <tr>\n",
       "      <th>82344</th>\n",
       "      <td>felixm916</td>\n",
       "      <td>Homy cafe</td>\n",
       "      <td>Pleasant and friendly barista, awesome environ...</td>\n",
       "      <td>4.0</td>\n",
       "      <td>2018-06-20</td>\n",
       "      <td>Doi Chaang Caffe</td>\n",
       "      <td>Shah Alam</td>\n",
       "      <td>20</td>\n",
       "      <td>6</td>\n",
       "      <td>2018</td>\n",
       "      <td>pleasant and friendly barista awesome environm...</td>\n",
       "    </tr>\n",
       "    <tr>\n",
       "      <th>82345</th>\n",
       "      <td>stefaniecstPetaling Jaya, Malaysia</td>\n",
       "      <td>Homemade sitiawan food</td>\n",
       "      <td>Located opposite samy &amp; min bah kut teh (Suban...</td>\n",
       "      <td>4.0</td>\n",
       "      <td>2019-05-05</td>\n",
       "      <td>ah muk Noodle</td>\n",
       "      <td>Shah Alam</td>\n",
       "      <td>5</td>\n",
       "      <td>5</td>\n",
       "      <td>2019</td>\n",
       "      <td>located opposite samy  min bah kut teh subang ...</td>\n",
       "    </tr>\n",
       "  </tbody>\n",
       "</table>\n",
       "<p>82346 rows × 11 columns</p>\n",
       "</div>"
      ],
      "text/plain": [
       "                                   Author  \\\n",
       "0        AgentcikayKuala Lumpur, Malaysia   \n",
       "1                           Merlinong2979   \n",
       "2                                Hwathy09   \n",
       "3                            EskandarShah   \n",
       "4                              dumbaacs88   \n",
       "...                                   ...   \n",
       "82341                           Wolv3rin3   \n",
       "82342                          leelakrist   \n",
       "82343                        nathanganga8   \n",
       "82344                           felixm916   \n",
       "82345  stefaniecstPetaling Jaya, Malaysia   \n",
       "\n",
       "                                                  Title  \\\n",
       "0           Fantastic International Cuisine at Cuisines   \n",
       "1                               Heng Dai Cuti Cuti Ipoh   \n",
       "2      Great service.Wonderful candlelight dinner meal.   \n",
       "3                             Saturday buffet bbq grill   \n",
       "4                           Perfect Candle Light Dinner   \n",
       "...                                                 ...   \n",
       "82341                          Quietly Tucked Away Cafe   \n",
       "82342                           good coffee served here   \n",
       "82343                                       Good Coffee   \n",
       "82344                                         Homy cafe   \n",
       "82345                            Homemade sitiawan food   \n",
       "\n",
       "                                                  Review  Rating       Dates  \\\n",
       "0      Dinner here at Cuisines Restaurant was good. T...     5.0  2022-02-27   \n",
       "1      Like the environment so much, we stay in block...     5.0  2022-02-27   \n",
       "2      Had such a great candlelight 4 course meal in ...     4.0  2022-02-25   \n",
       "3      Totally disappointed with the buffet spread wh...     2.0  2022-02-19   \n",
       "4      It’s was a wonderful experience. The 4 course ...     5.0  2022-02-15   \n",
       "...                                                  ...     ...         ...   \n",
       "82341  Have not been in Taipan neighbourhood for some...     4.0  2019-08-08   \n",
       "82342  really like the coffee here the cold dog chang...     5.0  2019-07-19   \n",
       "82343  Must absolutely try the doi chang coffee uniqu...     5.0  2019-01-07   \n",
       "82344  Pleasant and friendly barista, awesome environ...     4.0  2018-06-20   \n",
       "82345  Located opposite samy & min bah kut teh (Suban...     4.0  2019-05-05   \n",
       "\n",
       "                Restaurant   Location  Day  Month  Year  \\\n",
       "0      Cuisines Restaurant       Ipoh   27      2  2022   \n",
       "1      Cuisines Restaurant       Ipoh   27      2  2022   \n",
       "2      Cuisines Restaurant       Ipoh   25      2  2022   \n",
       "3      Cuisines Restaurant       Ipoh   19      2  2022   \n",
       "4      Cuisines Restaurant       Ipoh   15      2  2022   \n",
       "...                    ...        ...  ...    ...   ...   \n",
       "82341     Doi Chaang Caffe  Shah Alam    8      8  2019   \n",
       "82342     Doi Chaang Caffe  Shah Alam   19      7  2019   \n",
       "82343     Doi Chaang Caffe  Shah Alam    7      1  2019   \n",
       "82344     Doi Chaang Caffe  Shah Alam   20      6  2018   \n",
       "82345        ah muk Noodle  Shah Alam    5      5  2019   \n",
       "\n",
       "                                            Clean_Review  \n",
       "0      dinner here at cuisines restaurant was good th...  \n",
       "1      like the environment so much we stay in block ...  \n",
       "2      had such a great candlelight  course meal in t...  \n",
       "3      totally disappointed with the buffet spread wh...  \n",
       "4      its was a wonderful experience the  course lov...  \n",
       "...                                                  ...  \n",
       "82341  have not been in taipan neighbourhood for some...  \n",
       "82342  really like the coffee here the cold dog chang...  \n",
       "82343  must absolutely try the doi chang coffee uniqu...  \n",
       "82344  pleasant and friendly barista awesome environm...  \n",
       "82345  located opposite samy  min bah kut teh subang ...  \n",
       "\n",
       "[82346 rows x 11 columns]"
      ]
     },
     "execution_count": 24,
     "metadata": {},
     "output_type": "execute_result"
    }
   ],
   "source": [
    "df2"
   ]
  },
  {
   "cell_type": "markdown",
   "id": "5d2ff776",
   "metadata": {},
   "source": [
    "For easy comparison, we put the original review, Review column and the review we just cleaned, Clean_Review side by side to see the differences."
   ]
  },
  {
   "cell_type": "code",
   "execution_count": 25,
   "id": "9fbb611f",
   "metadata": {},
   "outputs": [
    {
     "data": {
      "text/html": [
       "<div>\n",
       "<style scoped>\n",
       "    .dataframe tbody tr th:only-of-type {\n",
       "        vertical-align: middle;\n",
       "    }\n",
       "\n",
       "    .dataframe tbody tr th {\n",
       "        vertical-align: top;\n",
       "    }\n",
       "\n",
       "    .dataframe thead th {\n",
       "        text-align: right;\n",
       "    }\n",
       "</style>\n",
       "<table border=\"1\" class=\"dataframe\">\n",
       "  <thead>\n",
       "    <tr style=\"text-align: right;\">\n",
       "      <th></th>\n",
       "      <th>Review</th>\n",
       "      <th>Clean_Review</th>\n",
       "    </tr>\n",
       "  </thead>\n",
       "  <tbody>\n",
       "    <tr>\n",
       "      <th>0</th>\n",
       "      <td>Dinner here at Cuisines Restaurant was good. T...</td>\n",
       "      <td>dinner here at cuisines restaurant was good th...</td>\n",
       "    </tr>\n",
       "    <tr>\n",
       "      <th>1</th>\n",
       "      <td>Like the environment so much, we stay in block...</td>\n",
       "      <td>like the environment so much we stay in block ...</td>\n",
       "    </tr>\n",
       "    <tr>\n",
       "      <th>2</th>\n",
       "      <td>Had such a great candlelight 4 course meal in ...</td>\n",
       "      <td>had such a great candlelight  course meal in t...</td>\n",
       "    </tr>\n",
       "    <tr>\n",
       "      <th>3</th>\n",
       "      <td>Totally disappointed with the buffet spread wh...</td>\n",
       "      <td>totally disappointed with the buffet spread wh...</td>\n",
       "    </tr>\n",
       "    <tr>\n",
       "      <th>4</th>\n",
       "      <td>It’s was a wonderful experience. The 4 course ...</td>\n",
       "      <td>its was a wonderful experience the  course lov...</td>\n",
       "    </tr>\n",
       "    <tr>\n",
       "      <th>...</th>\n",
       "      <td>...</td>\n",
       "      <td>...</td>\n",
       "    </tr>\n",
       "    <tr>\n",
       "      <th>82341</th>\n",
       "      <td>Have not been in Taipan neighbourhood for some...</td>\n",
       "      <td>have not been in taipan neighbourhood for some...</td>\n",
       "    </tr>\n",
       "    <tr>\n",
       "      <th>82342</th>\n",
       "      <td>really like the coffee here the cold dog chang...</td>\n",
       "      <td>really like the coffee here the cold dog chang...</td>\n",
       "    </tr>\n",
       "    <tr>\n",
       "      <th>82343</th>\n",
       "      <td>Must absolutely try the doi chang coffee uniqu...</td>\n",
       "      <td>must absolutely try the doi chang coffee uniqu...</td>\n",
       "    </tr>\n",
       "    <tr>\n",
       "      <th>82344</th>\n",
       "      <td>Pleasant and friendly barista, awesome environ...</td>\n",
       "      <td>pleasant and friendly barista awesome environm...</td>\n",
       "    </tr>\n",
       "    <tr>\n",
       "      <th>82345</th>\n",
       "      <td>Located opposite samy &amp; min bah kut teh (Suban...</td>\n",
       "      <td>located opposite samy  min bah kut teh subang ...</td>\n",
       "    </tr>\n",
       "  </tbody>\n",
       "</table>\n",
       "<p>82346 rows × 2 columns</p>\n",
       "</div>"
      ],
      "text/plain": [
       "                                                  Review  \\\n",
       "0      Dinner here at Cuisines Restaurant was good. T...   \n",
       "1      Like the environment so much, we stay in block...   \n",
       "2      Had such a great candlelight 4 course meal in ...   \n",
       "3      Totally disappointed with the buffet spread wh...   \n",
       "4      It’s was a wonderful experience. The 4 course ...   \n",
       "...                                                  ...   \n",
       "82341  Have not been in Taipan neighbourhood for some...   \n",
       "82342  really like the coffee here the cold dog chang...   \n",
       "82343  Must absolutely try the doi chang coffee uniqu...   \n",
       "82344  Pleasant and friendly barista, awesome environ...   \n",
       "82345  Located opposite samy & min bah kut teh (Suban...   \n",
       "\n",
       "                                            Clean_Review  \n",
       "0      dinner here at cuisines restaurant was good th...  \n",
       "1      like the environment so much we stay in block ...  \n",
       "2      had such a great candlelight  course meal in t...  \n",
       "3      totally disappointed with the buffet spread wh...  \n",
       "4      its was a wonderful experience the  course lov...  \n",
       "...                                                  ...  \n",
       "82341  have not been in taipan neighbourhood for some...  \n",
       "82342  really like the coffee here the cold dog chang...  \n",
       "82343  must absolutely try the doi chang coffee uniqu...  \n",
       "82344  pleasant and friendly barista awesome environm...  \n",
       "82345  located opposite samy  min bah kut teh subang ...  \n",
       "\n",
       "[82346 rows x 2 columns]"
      ]
     },
     "execution_count": 25,
     "metadata": {},
     "output_type": "execute_result"
    }
   ],
   "source": [
    "df2[['Review','Clean_Review']]"
   ]
  },
  {
   "cell_type": "code",
   "execution_count": 26,
   "id": "93371366",
   "metadata": {},
   "outputs": [
    {
     "data": {
      "text/plain": [
       "'come here on a wednesday evening for surprise dinner we tried their pasta and salad  and they were really great awesome service by mr jeet would definitely consider coming back '"
      ]
     },
     "execution_count": 26,
     "metadata": {},
     "output_type": "execute_result"
    }
   ],
   "source": [
    "#Display the value in the 'Clean_Review' column of the df2 dataframe at index 44 to see the updated reviews\n",
    "df2['Clean_Review'].loc[44]"
   ]
  },
  {
   "cell_type": "markdown",
   "id": "235c65ee",
   "metadata": {},
   "source": [
    "#### Remove stopwords"
   ]
  },
  {
   "cell_type": "code",
   "execution_count": 27,
   "id": "f03a3fa5",
   "metadata": {},
   "outputs": [],
   "source": [
    "##Remove stopwords\n",
    "df2['Clean_Review'] = df2['Clean_Review'].apply(nfx.remove_stopwords)"
   ]
  },
  {
   "cell_type": "code",
   "execution_count": 28,
   "id": "d43ad615",
   "metadata": {},
   "outputs": [
    {
     "data": {
      "text/plain": [
       "'come wednesday evening surprise dinner tried pasta salad great awesome service mr jeet definitely consider coming'"
      ]
     },
     "execution_count": 28,
     "metadata": {},
     "output_type": "execute_result"
    }
   ],
   "source": [
    "#Display the value in the 'Clean_Review' column of the df2 dataframe at index 44 to see the updated reviews\n",
    "df2['Clean_Review'].loc[44]"
   ]
  },
  {
   "cell_type": "markdown",
   "id": "f9428573",
   "metadata": {},
   "source": [
    "We successful remove all the noises in the text."
   ]
  },
  {
   "cell_type": "markdown",
   "id": "c292c145",
   "metadata": {},
   "source": [
    "df2.to_csv (r'C:\\\\Users\\\\User\\\\PartTwo_Review.csv', index = False, header=True)"
   ]
  },
  {
   "cell_type": "markdown",
   "id": "946c0c0b",
   "metadata": {},
   "source": [
    "df2.to_excel(r'C:\\Users\\User\\TripAdvisor_Review.xlsx', index=False, header=True)"
   ]
  }
 ],
 "metadata": {
  "kernelspec": {
   "display_name": "Python 3 (ipykernel)",
   "language": "python",
   "name": "python3"
  },
  "language_info": {
   "codemirror_mode": {
    "name": "ipython",
    "version": 3
   },
   "file_extension": ".py",
   "mimetype": "text/x-python",
   "name": "python",
   "nbconvert_exporter": "python",
   "pygments_lexer": "ipython3",
   "version": "3.11.1"
  }
 },
 "nbformat": 4,
 "nbformat_minor": 5
}
